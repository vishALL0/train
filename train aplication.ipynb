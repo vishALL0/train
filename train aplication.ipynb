{
 "cells": [
  {
   "cell_type": "code",
   "execution_count": 1,
   "id": "8746d49d",
   "metadata": {},
   "outputs": [],
   "source": [
    "import requests"
   ]
  },
  {
   "cell_type": "code",
   "execution_count": null,
   "id": "aebb01a2",
   "metadata": {},
   "outputs": [],
   "source": [
    "class Irctc:\n",
    "    def __init__(self):\n",
    "    \n",
    "        input(\"\"\"\n",
    "        how would you like to proceed ? \n",
    "        1.Enter 1 to check Live train status\n",
    "        2. Enter 2 to check PNR\n",
    "        3. Enter 3 to train scedule\n",
    "\n",
    "        \"\"\")\n",
    "\n",
    "        if user=='1':\n",
    "            print(\"Live Train Status\")\n",
    "        elif user=='2':\n",
    "            print(\"PNR Number :\")\n",
    "        else:\n",
    "            self.train_schedule()\n",
    "    def train_schedule(self):\n",
    "        train_number=input(\"Enter the Train Number\")\n",
    "        self.fetch_data(train_number)\n",
    "\n",
    "    def fetch_data(self,train_number):\n",
    "        data = requests.get(\"https://indianrailapi.com/api/v2/TrainSchedule/apikey/30c382602bfa67c580e6cfe2becb/TrainNumber/{}\".format(train_number))\n",
    "        \n",
    "        data= data.json()\n",
    "        print(data)\n",
    "        \n",
    "obj=Irctc()\n",
    "        \n",
    "        \n",
    "        \n",
    "        "
   ]
  },
  {
   "cell_type": "code",
   "execution_count": null,
   "id": "303adac7",
   "metadata": {},
   "outputs": [],
   "source": []
  }
 ],
 "metadata": {
  "kernelspec": {
   "display_name": "Python 3 (ipykernel)",
   "language": "python",
   "name": "python3"
  },
  "language_info": {
   "codemirror_mode": {
    "name": "ipython",
    "version": 3
   },
   "file_extension": ".py",
   "mimetype": "text/x-python",
   "name": "python",
   "nbconvert_exporter": "python",
   "pygments_lexer": "ipython3",
   "version": "3.9.7"
  }
 },
 "nbformat": 4,
 "nbformat_minor": 5
}
